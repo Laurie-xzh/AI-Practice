{
 "cells": [
  {
   "cell_type": "markdown",
   "metadata": {},
   "source": [
    "实验要求：实现对彩色图像的灰度处理，并使用高斯一阶导数滤波器计算图像梯度，进而执行非极大值抑制和阈值操作及连接，从而进行canny边缘检测。"
   ]
  },
  {
   "cell_type": "code",
   "execution_count": 1,
   "metadata": {},
   "outputs": [],
   "source": [
    "import cv2\n",
    "import numpy as np\n",
    "import matplotlib.pyplot as plt\n",
    "#这里引入cv2仅仅是用Mat存储图片"
   ]
  },
  {
   "cell_type": "code",
   "execution_count": 7,
   "metadata": {},
   "outputs": [],
   "source": [
    "path = './img/RM.jpg'\n",
    "src=cv2.imread(path)\n"
   ]
  }
 ],
 "metadata": {
  "kernelspec": {
   "display_name": "Python 3.9.12 ('pytorchGPU')",
   "language": "python",
   "name": "python3"
  },
  "language_info": {
   "codemirror_mode": {
    "name": "ipython",
    "version": 3
   },
   "file_extension": ".py",
   "mimetype": "text/x-python",
   "name": "python",
   "nbconvert_exporter": "python",
   "pygments_lexer": "ipython3",
   "version": "3.9.12"
  },
  "orig_nbformat": 4,
  "vscode": {
   "interpreter": {
    "hash": "1059c54c16f67dfcd197f42274b005ae6e857547fcabcd5afbd2d187f3e01352"
   }
  }
 },
 "nbformat": 4,
 "nbformat_minor": 2
}
